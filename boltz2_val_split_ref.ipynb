{
 "cells": [
  {
   "cell_type": "code",
   "execution_count": 1,
   "id": "5b6fd88e",
   "metadata": {},
   "outputs": [],
   "source": [
    "import os\n",
    "import json\n",
    "import datetime\n",
    "from pathlib import Path\n",
    "from rdkit import Chem\n",
    "from rdkit.Chem import Descriptors, rdMolDescriptors, Lipinski\n",
    "from rdkit.Chem import DataStructs\n",
    "from Bio.PDB import PDBParser\n",
    "\n",
    "import matplotlib.pyplot as plt\n",
    "import datetime\n",
    "from tqdm.notebook import tqdm"
   ]
  },
  {
   "cell_type": "code",
   "execution_count": 2,
   "id": "64f58e69",
   "metadata": {},
   "outputs": [],
   "source": [
    "PWD = '/lambda_stor/homes/songhao.jiang/projects/boltz/scripts/process'"
   ]
  },
  {
   "cell_type": "code",
   "execution_count": null,
   "id": "432f1874",
   "metadata": {},
   "outputs": [],
   "source": []
  },
  {
   "cell_type": "code",
   "execution_count": 3,
   "id": "ba55e220",
   "metadata": {},
   "outputs": [],
   "source": [
    "MIN_SEQ_ID = 0.4\n",
    "DATE_START = datetime.date(2023, 6, 1)\n",
    "DATE_END = datetime.date(2024, 1, 1)\n",
    "MAX_RESOLUTION = 4.5\n",
    "MAX_RESIDUES = 1024\n",
    "MAX_ENTITIES = 20\n",
    "VALIDATION_OUTPUT = \"filtered_validation_set.json\"\n",
    "\n",
    "with open('/scratch/shjiang/DATA/boltz_1/rcsb_processed_targets/manifest.json', 'r') as f:\n",
    "    manifest = json.load(f)"
   ]
  },
  {
   "cell_type": "code",
   "execution_count": 4,
   "id": "4fe8bca5",
   "metadata": {},
   "outputs": [],
   "source": [
    "def get_chain_clusters(cluster_mapping_file):\n",
    "    # output: dict{chain_id -> cluster_id}\n",
    "    cluster_map = {}\n",
    "    with open(cluster_mapping_file) as f:\n",
    "        for line in f:\n",
    "            cluster_id, *chains = line.strip().split()\n",
    "            for chain in chains:\n",
    "                cluster_map[chain] = cluster_id\n",
    "    return cluster_map"
   ]
  },
  {
   "cell_type": "code",
   "execution_count": 5,
   "id": "7d8ac4dc",
   "metadata": {},
   "outputs": [],
   "source": [
    "cluster_map = get_chain_clusters(f\"{PWD}/new_clustering/cluster_prot_cluster.tsv\")  # chain_id → cluster_id"
   ]
  },
  {
   "cell_type": "code",
   "execution_count": 6,
   "id": "4e1382c1",
   "metadata": {},
   "outputs": [
    {
     "data": {
      "application/vnd.jupyter.widget-view+json": {
       "model_id": "e70d53d7408940818ede04c10d92bbeb",
       "version_major": 2,
       "version_minor": 0
      },
      "text/plain": [
       "  0%|          | 0/216870 [00:00<?, ?it/s]"
      ]
     },
     "metadata": {},
     "output_type": "display_data"
    }
   ],
   "source": [
    "training = []\n",
    "exceed_length = []\n",
    "not_training = []\n",
    "for record in tqdm(manifest):\n",
    "    resolution = record['structure']['resolution']\n",
    "    release_date = datetime.datetime.strptime(record['structure']['released'], '%Y-%m-%d').date()\n",
    "    \n",
    "    if release_date < DATE_START:\n",
    "        chains = record['chains']\n",
    "        num_residues = sum([i['num_residues'] for i in record['chains']])\n",
    "        if num_residues < 5000:\n",
    "            training.append(record)\n",
    "        else:\n",
    "            exceed_length.append(record)\n",
    "            not_training.append(record)\n",
    "    else:\n",
    "        not_training.append(record)"
   ]
  },
  {
   "cell_type": "code",
   "execution_count": 7,
   "id": "11fd7d8b",
   "metadata": {},
   "outputs": [
    {
     "name": "stdout",
     "output_type": "stream",
     "text": [
      "197996 197996 216870 6610\n"
     ]
    }
   ],
   "source": [
    "training_pdb_ids = set([i['id'] for i in training])\n",
    "print(len(training),len(training_pdb_ids),len(manifest),len(exceed_length))"
   ]
  },
  {
   "cell_type": "code",
   "execution_count": 8,
   "id": "8960927e",
   "metadata": {},
   "outputs": [
    {
     "data": {
      "application/vnd.jupyter.widget-view+json": {
       "model_id": "07081e1b6c6941479d12dbe4f018864e",
       "version_major": 2,
       "version_minor": 0
      },
      "text/plain": [
       "  0%|          | 0/18874 [00:00<?, ?it/s]"
      ]
     },
     "metadata": {},
     "output_type": "display_data"
    },
    {
     "name": "stdout",
     "output_type": "stream",
     "text": [
      "8671 8671 3039\n"
     ]
    }
   ],
   "source": [
    "# filter_0: date\n",
    "validation_all = []\n",
    "# filter_1: resolution\n",
    "validation_filter_1 = []\n",
    "# filter_2: sequence identity \n",
    "validation_filter_2 = []\n",
    "for record in tqdm(not_training):\n",
    "    resolution = record['structure']['resolution']\n",
    "    release_date = datetime.datetime.strptime(record['structure']['released'], '%Y-%m-%d').date()\n",
    "    \n",
    "    if release_date > DATE_START and release_date <= DATE_END:\n",
    "        validation_all.append(record)\n",
    "        if resolution < 4.5:\n",
    "            validation_filter_1.append(record)\n",
    "            pdb_id = record['id']\n",
    "            chains = record['chains']\n",
    "            if any(cluster_map.get(f\"{pdb_id}_{chain['chain_name'][0]}\", '').split('_')[0] in training_pdb_ids for chain in chains):\n",
    "                continue\n",
    "            else:\n",
    "                validation_filter_2.append(record)\n",
    "print(len(validation_all), len(validation_filter_1),len(validation_filter_2))"
   ]
  },
  {
   "cell_type": "code",
   "execution_count": 9,
   "id": "d1e1221d",
   "metadata": {},
   "outputs": [
    {
     "data": {
      "text/plain": [
       "3026"
      ]
     },
     "execution_count": 9,
     "metadata": {},
     "output_type": "execute_result"
    }
   ],
   "source": [
    "# filter_3: currently there exists some pdbs which cannot be downloaded from rtcb\n",
    "validation_filter_3 = []\n",
    "for i in validation_filter_2:\n",
    "    pdb_id = i['id']\n",
    "    if os.path.exists(f'/scratch/shjiang/DATA/boltz_2/rcsb_processed_targets/{pdb_id}.pkl'):\n",
    "        validation_filter_3.append(i)\n",
    "len(validation_filter_3)"
   ]
  },
  {
   "cell_type": "code",
   "execution_count": 10,
   "id": "f23277d4",
   "metadata": {},
   "outputs": [],
   "source": [
    "import pickle \n",
    "from Bio.PDB.MMCIF2Dict import MMCIF2Dict\n",
    "from boltz.data.const import ligand_exclusion\n",
    "from rdkit import Chem, DataStructs\n",
    "from rdkit.Chem import AllChem\n",
    "import itertools\n",
    "import pandas as pd\n",
    "\n",
    "from rdkit import RDLogger                                                                                                                                                               \n",
    "RDLogger.DisableLog('rdApp.*') \n",
    "\n",
    "\n",
    "def satisfies_lipinski_rule(mol) -> bool:\n",
    "#     mol = Chem.MolFromSmiles(ligand['smiles'])\n",
    "    if mol is None:\n",
    "        return False\n",
    "    try:\n",
    "        mw = Descriptors.MolWt(mol)\n",
    "        logp = Descriptors.MolLogP(mol)\n",
    "        h_donors = Lipinski.NumHDonors(mol)\n",
    "        h_acceptors = Lipinski.NumHAcceptors(mol)\n",
    "        return (\n",
    "            mw <= 500 and\n",
    "            logp <= 5 and\n",
    "            h_donors <= 5 and\n",
    "            h_acceptors <= 10\n",
    "        )\n",
    "    except:\n",
    "        return False\n",
    "with open('/scratch/shjiang/DATA/boltz_1/ccd/ccd.pkl', 'rb') as file:\n",
    "    ccd = pickle.load(file)\n",
    "valid_ccd = {k:v for k,v in ccd.items() if k not in ligand_exclusion}"
   ]
  },
  {
   "cell_type": "code",
   "execution_count": null,
   "id": "53786a22",
   "metadata": {},
   "outputs": [],
   "source": [
    "# filter 4: check 1) no mol, 2) at least one mol satisfies Lipinski’s Rule of Five\n",
    "validation_filter_4 = []\n",
    "mols_for_sim = {}\n",
    "for i in tqdm(validation_filter_3):\n",
    "    pdb_id = i['id']\n",
    "    cif_file = f'/scratch/shjiang/DATA/boltz_1/PDB/{pdb_id}.cif'\n",
    "    cif = MMCIF2Dict(cif_file)\n",
    "    try:\n",
    "        non_poly = cif['_pdbx_entity_nonpoly.comp_id']\n",
    "#         if not non_poly:\n",
    "#             validation_filter_4.append(i)\n",
    "#         else:\n",
    "        mols = {i:ccd.get(i, None) for i in non_poly if i not in ligand_exclusion}\n",
    "        mols = {k:v for k,v in mols.items() if v and v.GetNumHeavyAtoms() > 1}\n",
    "        if not mols:\n",
    "            # all mols has heavy atoms < 1, no need for similarity search\n",
    "            validation_filter_4.append(i)\n",
    "            continue\n",
    "        \n",
    "        lipinski = [satisfies_lipinski_rule(mol) for k,mol in mols.items()]\n",
    "        if any(lipinski):\n",
    "            validation_filter_4.append(i)\n",
    "            continue\n",
    "\n",
    "        # store for futher usage\n",
    "        mols_for_sim[pdb_id] = non_poly\n",
    "    except KeyError:\n",
    "        # does not contain non-poly -> does not contain molecule\n",
    "        validation_filter_4.append(i)\n",
    "        \n",
    "# with open('/lambda_stor/homes/songhao.jiang/projects/boltz/DATA/training_mols/validation_filter_4.pkl', 'wb') as file:\n",
    "#     pickle.dump(validation_filter_4, file)"
   ]
  },
  {
   "cell_type": "code",
   "execution_count": 11,
   "id": "d8a120d3",
   "metadata": {},
   "outputs": [],
   "source": [
    "with open(\"/lambda_stor/homes/songhao.jiang/projects/boltz/DATA/training_mols/validation_filter_4.pkl\", \"rb\") as f:\n",
    "    validation_filter_4 = pickle.load(f)\n",
    "    \n",
    "with open(\"/lambda_stor/homes/songhao.jiang/projects/boltz/DATA/training_mols/mols_for_sim.pkl\", \"rb\") as f:\n",
    "    mols_for_sim = pickle.load(f)"
   ]
  },
  {
   "cell_type": "code",
   "execution_count": 12,
   "id": "df913843",
   "metadata": {},
   "outputs": [
    {
     "data": {
      "text/plain": [
       "2319"
      ]
     },
     "execution_count": 12,
     "metadata": {},
     "output_type": "execute_result"
    }
   ],
   "source": [
    "len(validation_filter_4)"
   ]
  },
  {
   "cell_type": "code",
   "execution_count": 13,
   "id": "d755d9a5",
   "metadata": {},
   "outputs": [],
   "source": [
    "mols_only_for_sim = set().union(*mols_for_sim.values())"
   ]
  },
  {
   "cell_type": "code",
   "execution_count": 14,
   "id": "8aad8b8d",
   "metadata": {},
   "outputs": [],
   "source": [
    "from rdkit.Chem import rdFingerprintGenerator\n",
    "from collections import defaultdict\n",
    "def pairwise_tanimoto_similarity(target, training, mol_dict, fpSize=1024):\n",
    "    # Generate Morgan fingerprints for each molecule\n",
    "    mfpgen = rdFingerprintGenerator.GetMorganGenerator(radius=2,fpSize=fpSize)\n",
    "    fps = {}\n",
    "    for k, mol in mol_dict.items():\n",
    "        try:\n",
    "            f_ = mfpgen.GetFingerprint(mol) \n",
    "            fps[k] = f_\n",
    "        except:\n",
    "            pass\n",
    "            \n",
    "    print(f\"len(fps): {len(fps)}\")\n",
    "    \n",
    "    # Compute pairwise similarities\n",
    "    results = defaultdict(list)\n",
    "    print(\"starting....\")\n",
    "    for k1 in tqdm(target):\n",
    "        for k2 in training:\n",
    "            try:\n",
    "                sim = DataStructs.TanimotoSimilarity(fps[k1], fps[k2])\n",
    "            except:\n",
    "                sim = 0\n",
    "            if k1 not in results:\n",
    "                results[k1] = []\n",
    "            results[k1].append((k2, sim))\n",
    "    \n",
    "    # Convert to DataFrame\n",
    "    return results"
   ]
  },
  {
   "cell_type": "code",
   "execution_count": null,
   "id": "49ab73fa",
   "metadata": {},
   "outputs": [],
   "source": []
  },
  {
   "cell_type": "code",
   "execution_count": 15,
   "id": "c4ed50a9",
   "metadata": {},
   "outputs": [
    {
     "data": {
      "text/plain": [
       "36381"
      ]
     },
     "execution_count": 15,
     "metadata": {},
     "output_type": "execute_result"
    }
   ],
   "source": [
    "# get mols in training data\n",
    "# train_mols_for_sim = {}\n",
    "# for i in tqdm(training):\n",
    "#     pdb_id = i['id']\n",
    "#     cif_file = f'/scratch/shjiang/DATA/boltz_1/PDB/{pdb_id}.cif'\n",
    "#     cif = MMCIF2Dict(cif_file)\n",
    "#     try:\n",
    "#         non_poly = cif['_pdbx_entity_nonpoly.comp_id']\n",
    "#         train_mols_for_sim[pdb_id] = non_poly\n",
    "#     except:\n",
    "#         pass\n",
    "# with open('/lambda_stor/homes/songhao.jiang/projects/boltz/DATA/training_mols/train_mols_for_sim.pkl', 'wb') as file:\n",
    "#     pickle.dump(train_mols_for_sim, file)\n",
    "\n",
    "with open(\"/lambda_stor/homes/songhao.jiang/projects/boltz/DATA/training_mols/train_mols_for_sim.pkl\", \"rb\") as f:\n",
    "    obj = pickle.load(f)\n",
    "    \n",
    "training_mols = []\n",
    "for k,v in obj.items():\n",
    "    training_mols.extend(v)\n",
    "training_mols = list(set(training_mols))\n",
    "len(training_mols)"
   ]
  },
  {
   "cell_type": "code",
   "execution_count": null,
   "id": "b9c98d61",
   "metadata": {},
   "outputs": [],
   "source": [
    "# get tonimoto similarity between mols in validation and mols in training\n",
    "\n",
    "# results = pairwise_tanimoto_similarity(mols_only_for_sim, training_mols, valid_ccd, 2048)\n",
    "\n",
    "# with open('/lambda_stor/homes/songhao.jiang/projects/boltz/DATA/training_mols/sim_results.pkl', 'wb') as file:\n",
    "#     pickle.dump(results, file)"
   ]
  },
  {
   "cell_type": "code",
   "execution_count": 16,
   "id": "e9e65666",
   "metadata": {},
   "outputs": [],
   "source": [
    "with open(\"/lambda_stor/homes/songhao.jiang/projects/boltz/DATA/training_mols/sim_results.pkl\", \"rb\") as f:\n",
    "    results = pickle.load(f)"
   ]
  },
  {
   "cell_type": "code",
   "execution_count": 17,
   "id": "7b07527e",
   "metadata": {},
   "outputs": [
    {
     "data": {
      "application/vnd.jupyter.widget-view+json": {
       "model_id": "ecc1388ad7964d50b74e9f8bcf7742b0",
       "version_major": 2,
       "version_minor": 0
      },
      "text/plain": [
       "  0%|          | 0/707 [00:00<?, ?it/s]"
      ]
     },
     "metadata": {},
     "output_type": "display_data"
    }
   ],
   "source": [
    "validation_filter_4_sim = []\n",
    "for pdb_id, list_mols in tqdm(mols_for_sim.items()):\n",
    "    for mol in list_mols:\n",
    "        sims = results[mol]\n",
    "        sims = [i[1] < 0.85 for i in sims]\n",
    "        if any(sims):\n",
    "            validation_filter_4_sim.append(pdb_id)\n",
    "            break"
   ]
  },
  {
   "cell_type": "code",
   "execution_count": 18,
   "id": "2fc08b2e",
   "metadata": {},
   "outputs": [
    {
     "data": {
      "text/plain": [
       "(707, 707, 2319)"
      ]
     },
     "execution_count": 18,
     "metadata": {},
     "output_type": "execute_result"
    }
   ],
   "source": [
    "len(validation_filter_4_sim), len(mols_for_sim), len(validation_filter_4)"
   ]
  },
  {
   "cell_type": "code",
   "execution_count": 19,
   "id": "19e7b06a",
   "metadata": {},
   "outputs": [
    {
     "data": {
      "text/plain": [
       "(3026, 3026)"
      ]
     },
     "execution_count": 19,
     "metadata": {},
     "output_type": "execute_result"
    }
   ],
   "source": [
    "len(validation_filter_4_sim) + len(validation_filter_4), len(validation_filter_3)"
   ]
  },
  {
   "cell_type": "code",
   "execution_count": 20,
   "id": "bb4e3d73",
   "metadata": {},
   "outputs": [],
   "source": [
    "validation_before_further = []\n",
    "for i in validation_filter_4:\n",
    "    validation_before_further.append(i['id'])\n",
    "for i in validation_filter_4_sim:\n",
    "    validation_before_further.append(i)"
   ]
  },
  {
   "cell_type": "code",
   "execution_count": 21,
   "id": "76c3be6d",
   "metadata": {},
   "outputs": [
    {
     "data": {
      "text/plain": [
       "3026"
      ]
     },
     "execution_count": 21,
     "metadata": {},
     "output_type": "execute_result"
    }
   ],
   "source": [
    "len(validation_before_further)"
   ]
  },
  {
   "cell_type": "code",
   "execution_count": 22,
   "id": "880892cf",
   "metadata": {},
   "outputs": [
    {
     "data": {
      "application/vnd.jupyter.widget-view+json": {
       "model_id": "af2717673ddd494aa755cb226a3f82ed",
       "version_major": 2,
       "version_minor": 0
      },
      "text/plain": [
       "  0%|          | 0/216870 [00:00<?, ?it/s]"
      ]
     },
     "metadata": {},
     "output_type": "display_data"
    }
   ],
   "source": [
    "validation_filter_5 = []\n",
    "for record in tqdm(manifest):\n",
    "    if record['id'] in validation_before_further:\n",
    "        chains = record['chains']\n",
    "        \n",
    "        num_entites = len(chains)\n",
    "        num_residues = 0\n",
    "        chain_type = []\n",
    "        for chain in chains:\n",
    "            num_residues += chain['num_residues']\n",
    "            chain_type.append(chain['mol_type'])\n",
    "        if 1 in chain_type or 2 in chain_type:\n",
    "            validation_filter_5.append(record['id'])\n",
    "        else:\n",
    "            if num_residues > 1024:\n",
    "                continue\n",
    "            if num_entites > 20:\n",
    "                continue\n",
    "        validation_filter_5.append(record['id'])"
   ]
  },
  {
   "cell_type": "code",
   "execution_count": 23,
   "id": "ba6e0d8d",
   "metadata": {},
   "outputs": [
    {
     "data": {
      "text/plain": [
       "2344"
      ]
     },
     "execution_count": 23,
     "metadata": {},
     "output_type": "execute_result"
    }
   ],
   "source": [
    "len(validation_filter_5)"
   ]
  },
  {
   "cell_type": "code",
   "execution_count": null,
   "id": "0f5def20",
   "metadata": {},
   "outputs": [],
   "source": []
  },
  {
   "cell_type": "code",
   "execution_count": null,
   "id": "08b8a068",
   "metadata": {},
   "outputs": [],
   "source": []
  }
 ],
 "metadata": {
  "kernelspec": {
   "display_name": "Python (boltz)",
   "language": "python",
   "name": "boltz"
  },
  "language_info": {
   "codemirror_mode": {
    "name": "ipython",
    "version": 3
   },
   "file_extension": ".py",
   "mimetype": "text/x-python",
   "name": "python",
   "nbconvert_exporter": "python",
   "pygments_lexer": "ipython3",
   "version": "3.10.18"
  }
 },
 "nbformat": 4,
 "nbformat_minor": 5
}
